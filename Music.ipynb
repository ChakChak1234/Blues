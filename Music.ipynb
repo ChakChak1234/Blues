{
 "cells": [
  {
   "cell_type": "code",
   "execution_count": 1,
   "metadata": {
    "collapsed": false
   },
   "outputs": [],
   "source": [
    "import numpy as np\n",
    "import tensorflow as tf\n",
    "import pandas as pd\n",
    "import msgpack\n",
    "import glob\n",
    "from tqdm import tqdm\n",
    "import midi_manipulation\n",
    "from tensorflow.python.ops import control_flow_ops"
   ]
  },
  {
   "cell_type": "code",
   "execution_count": 2,
   "metadata": {
    "collapsed": false
   },
   "outputs": [
    {
     "name": "stderr",
     "output_type": "stream",
     "text": [
      "100%|██████████| 126/126 [00:03<00:00, 37.82it/s]\n"
     ]
    }
   ],
   "source": [
    "path=\"/home/bhaktipriya/ML/rnn_music/blues\"\n",
    "files=glob.glob('{}/*.*mid*'.format(path))\n",
    "songs=[]\n",
    "for f in tqdm(files):\n",
    "            song = np.array(midi_manipulation.midiToNoteStateMatrix(f))\n",
    "            if np.array(song).shape[0] > 50:\n",
    "                songs.append(song)"
   ]
  },
  {
   "cell_type": "code",
   "execution_count": 3,
   "metadata": {
    "collapsed": true
   },
   "outputs": [],
   "source": [
    "#MusicParams\n",
    "\n",
    "lowestnote=midi_manipulation.lowerBound\n",
    "highestnote=midi_manipulation.upperBound\n",
    "noterange=highestnote-lowestnote"
   ]
  },
  {
   "cell_type": "code",
   "execution_count": 4,
   "metadata": {
    "collapsed": true
   },
   "outputs": [],
   "source": [
    "#Hyperparams\n",
    "timesteps=15 #no of notes to create at a time\n",
    "nv=2*noterange*timesteps #visible layer size. \n",
    "nh=50 #hidden layer size.\n",
    "epochs=200 \n",
    "batch_size=100  \n",
    "lr=tf.constant(0.005, tf.float32) #learning rate "
   ]
  },
  {
   "cell_type": "code",
   "execution_count": 5,
   "metadata": {
    "collapsed": false
   },
   "outputs": [],
   "source": [
    "#Placeholders & vars for Network\n",
    "\n",
    "x=tf.placeholder(tf.float32, [None, nv], name=\"x\") #The placeholder for data\n",
    "W=tf.Variable(tf.random_normal([nv, nh], 0.01), name=\"W\")#weight matrix\n",
    "bh=tf.Variable(tf.zeros([1, nh],  tf.float32, name=\"bh\")) #bias for hidden layer\n",
    "bv=tf.Variable(tf.zeros([1, nv],  tf.float32, name=\"bv\")) #bias for visible layer\n"
   ]
  },
  {
   "cell_type": "code",
   "execution_count": 6,
   "metadata": {
    "collapsed": false
   },
   "outputs": [],
   "source": [
    "def sample(probs):\n",
    "    return tf.floor(probs+tf.random_uniform(tf.shape(probs), 0, 1))\n",
    "\n",
    "def gibbs_step(count, k, xk):\n",
    "        #Runs a single gibbs step. The visible values are initialized to xk\n",
    "        hk = sample(tf.sigmoid(tf.matmul(xk, W) + bh))\n",
    "        xk = sample(tf.sigmoid(tf.matmul(hk, tf.transpose(W)) + bv))\n",
    "        return count+1, k, xk\n",
    "\n",
    "def gibbs_sample(k):\n",
    "    #Gibbs sample is used to approximate the distribution of the RBM(defined by W, bh, bv)\n",
    "    \n",
    "    #Run gibbs steps for k iterations\n",
    "    ct = tf.constant(0) #counter\n",
    "    [_, _, x_sample] = control_flow_ops.while_loop(lambda count, num_iter, *args: count < num_iter,gibbs_step, [ct, tf.constant(k), x], 1, False)                \n",
    "    #This is not strictly necessary in this implementation, but if you want to adapt this code to use one of TensorFlow's\n",
    "    #optimizers, you need this in order to stop tensorflow from propagating gradients back through the gibbs step\n",
    "    x_sample = tf.stop_gradient(x_sample) \n",
    "    return x_sample\n"
   ]
  },
  {
   "cell_type": "code",
   "execution_count": 7,
   "metadata": {
    "collapsed": false
   },
   "outputs": [],
   "source": [
    "h=sample(tf.sigmoid(tf.matmul(x, W) + bh)) \n",
    "\n",
    "x_sample=gibbs_sample(1) \n",
    "\n",
    "h_sample=sample(tf.sigmoid(tf.matmul(x_sample, W) + bh)) "
   ]
  },
  {
   "cell_type": "code",
   "execution_count": 8,
   "metadata": {
    "collapsed": true
   },
   "outputs": [],
   "source": [
    "#Next, we update the values of W, bh, and bv, based on the difference between the samples that we drew and the original values\n",
    "size_bt=tf.cast(tf.shape(x)[0], tf.float32)\n",
    "eta=lr/size_bt\n",
    "W_upd=tf.mul(eta, tf.sub(tf.matmul(tf.transpose(x), h), tf.matmul(tf.transpose(x_sample), h_sample)))\n",
    "bv_upd=tf.mul(eta, tf.reduce_sum(tf.sub(x, x_sample), 0, True))\n",
    "bh_upd=tf.mul(eta, tf.reduce_sum(tf.sub(h, h_sample), 0, True))\n",
    "updt=[W.assign_add(W_upd), bv.assign_add(bv_upd), bh.assign_add(bh_upd)]"
   ]
  },
  {
   "cell_type": "code",
   "execution_count": 9,
   "metadata": {
    "collapsed": false
   },
   "outputs": [
    {
     "name": "stderr",
     "output_type": "stream",
     "text": [
      "100%|██████████| 200/200 [02:29<00:00,  1.35it/s]\n"
     ]
    }
   ],
   "source": [
    "sess=tf.Session()\n",
    "init=tf.initialize_all_variables()\n",
    "sess.run(init)\n",
    "for epoch in tqdm(range(epochs)):\n",
    "            for song in songs:\n",
    "                song=np.array(song)\n",
    "                #reshaping song into chunks of timestep size\n",
    "                chunks=song.shape[0]/timesteps\n",
    "                dur=chunks*timesteps\n",
    "                song=song[:dur]\n",
    "                song=np.reshape(song, [chunks, song.shape[1]*timesteps])\n",
    "                #Train the RBM on batch_size examples at a time\n",
    "                for i in range(1, len(song), batch_size): \n",
    "                    tr_x=song[i:i+batch_size]\n",
    "                    sess.run(updt, feed_dict={x: tr_x})\n"
   ]
  },
  {
   "cell_type": "code",
   "execution_count": 10,
   "metadata": {
    "collapsed": false
   },
   "outputs": [],
   "source": [
    "sample=gibbs_sample(1).eval(session=sess, feed_dict={x: np.zeros((10, nv))})\n",
    "generatedfiles=[]\n",
    "for i in range(sample.shape[0]):\n",
    "            if not any(sample[i,:]):\n",
    "                continue\n",
    "            #save the op vector as a midi file\n",
    "            S = np.reshape(sample[i,:], (timesteps, 2*noterange))\n",
    "            midi_manipulation.noteStateMatrixToMidi(S, \"gen_snippet{}\".format(i))\n",
    "            generatedfiles.append(\"gen_snippet{}\".format(i))\n",
    "\n"
   ]
  },
  {
   "cell_type": "code",
   "execution_count": null,
   "metadata": {
    "collapsed": false
   },
   "outputs": [],
   "source": []
  },
  {
   "cell_type": "code",
   "execution_count": null,
   "metadata": {
    "collapsed": true
   },
   "outputs": [],
   "source": []
  }
 ],
 "metadata": {
  "kernelspec": {
   "display_name": "Python 2",
   "language": "python",
   "name": "python2"
  },
  "language_info": {
   "codemirror_mode": {
    "name": "ipython",
    "version": 2
   },
   "file_extension": ".py",
   "mimetype": "text/x-python",
   "name": "python",
   "nbconvert_exporter": "python",
   "pygments_lexer": "ipython2",
   "version": "2.7.6"
  }
 },
 "nbformat": 4,
 "nbformat_minor": 1
}
